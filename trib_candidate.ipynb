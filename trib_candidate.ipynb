{
 "cells": [
  {
   "cell_type": "code",
   "execution_count": 1,
   "metadata": {},
   "outputs": [
    {
     "name": "stdout",
     "output_type": "stream",
     "text": [
      "        0     1   2   3   4    5    6    7       8     9      10     11  12  \\\n",
      "0      SPO  2017   1   1   0   10  4.9  100  691.50 -25.1 -999.9 -999.9 -99   \n",
      "1      SPO  2017   1   1   1   13  4.8  100  691.43 -25.3 -999.9 -999.9 -99   \n",
      "2      SPO  2017   1   1   2   12  4.7  100  691.56 -25.2 -999.9 -999.9 -99   \n",
      "3      SPO  2017   1   1   3   10  4.8  100  691.63 -25.2 -999.9 -999.9 -99   \n",
      "4      SPO  2017   1   1   4   10  5.0  100  691.54 -25.3 -999.9 -999.9 -99   \n",
      "...    ...   ...  ..  ..  ..  ...  ...  ...     ...   ...    ...    ...  ..   \n",
      "26177  SPO  2015  12  31  19   92  2.5  100  678.97 -29.0  -29.0  -28.7  71   \n",
      "26178  SPO  2015  12  31  20   99  2.6  100  678.70 -28.9  -28.9  -28.7  70   \n",
      "26179  SPO  2015  12  31  21  111  2.8  100  678.51 -29.2  -29.0  -28.8  71   \n",
      "26180  SPO  2015  12  31  22  112  3.0  100  678.24 -29.1  -29.1  -28.9  70   \n",
      "26181  SPO  2015  12  31  23  113  3.1  100  678.09 -29.1  -29.2  -29.0  69   \n",
      "\n",
      "       13  \n",
      "0     -99  \n",
      "1     -99  \n",
      "2     -99  \n",
      "3     -99  \n",
      "4     -99  \n",
      "...    ..  \n",
      "26177 -99  \n",
      "26178 -99  \n",
      "26179 -99  \n",
      "26180 -99  \n",
      "26181 -99  \n",
      "\n",
      "[26182 rows x 14 columns]\n"
     ]
    }
   ],
   "source": [
    "from pandas import DataFrame, read_csv\n",
    "import pandas as pd \n",
    "df = pd.read_csv('2017_wind_speed.txt', sep = \"\\s+\", header = None)\n",
    "print(df)"
   ]
  },
  {
   "cell_type": "code",
   "execution_count": 2,
   "metadata": {},
   "outputs": [],
   "source": [
    "df.drop(columns=[ 5, 7, 8, 9, 10, 11, 12, 13],inplace=True)"
   ]
  },
  {
   "cell_type": "code",
   "execution_count": 3,
   "metadata": {},
   "outputs": [
    {
     "name": "stdout",
     "output_type": "stream",
     "text": [
      "      station  year  month  day  hour  wind\n",
      "0         SPO  2017      1    1     0   4.9\n",
      "1         SPO  2017      1    1     1   4.8\n",
      "2         SPO  2017      1    1     2   4.7\n",
      "3         SPO  2017      1    1     3   4.8\n",
      "4         SPO  2017      1    1     4   5.0\n",
      "...       ...   ...    ...  ...   ...   ...\n",
      "26177     SPO  2015     12   31    19   2.5\n",
      "26178     SPO  2015     12   31    20   2.6\n",
      "26179     SPO  2015     12   31    21   2.8\n",
      "26180     SPO  2015     12   31    22   3.0\n",
      "26181     SPO  2015     12   31    23   3.1\n",
      "\n",
      "[26182 rows x 6 columns]\n"
     ]
    }
   ],
   "source": [
    "df.columns=['station','year','month','day','hour','wind']\n",
    "print(df)"
   ]
  },
  {
   "cell_type": "code",
   "execution_count": 4,
   "metadata": {},
   "outputs": [
    {
     "data": {
      "text/html": [
       "<div>\n",
       "<style scoped>\n",
       "    .dataframe tbody tr th:only-of-type {\n",
       "        vertical-align: middle;\n",
       "    }\n",
       "\n",
       "    .dataframe tbody tr th {\n",
       "        vertical-align: top;\n",
       "    }\n",
       "\n",
       "    .dataframe thead th {\n",
       "        text-align: right;\n",
       "    }\n",
       "</style>\n",
       "<table border=\"1\" class=\"dataframe\">\n",
       "  <thead>\n",
       "    <tr style=\"text-align: right;\">\n",
       "      <th></th>\n",
       "      <th>station</th>\n",
       "      <th>year</th>\n",
       "      <th>month</th>\n",
       "      <th>day</th>\n",
       "      <th>hour</th>\n",
       "      <th>wind</th>\n",
       "    </tr>\n",
       "  </thead>\n",
       "  <tbody>\n",
       "    <tr>\n",
       "      <td>6412</td>\n",
       "      <td>SPO</td>\n",
       "      <td>2017</td>\n",
       "      <td>9</td>\n",
       "      <td>27</td>\n",
       "      <td>14</td>\n",
       "      <td>15.7</td>\n",
       "    </tr>\n",
       "    <tr>\n",
       "      <td>6427</td>\n",
       "      <td>SPO</td>\n",
       "      <td>2017</td>\n",
       "      <td>9</td>\n",
       "      <td>28</td>\n",
       "      <td>5</td>\n",
       "      <td>15.7</td>\n",
       "    </tr>\n",
       "    <tr>\n",
       "      <td>6419</td>\n",
       "      <td>SPO</td>\n",
       "      <td>2017</td>\n",
       "      <td>9</td>\n",
       "      <td>27</td>\n",
       "      <td>21</td>\n",
       "      <td>15.6</td>\n",
       "    </tr>\n",
       "    <tr>\n",
       "      <td>6401</td>\n",
       "      <td>SPO</td>\n",
       "      <td>2017</td>\n",
       "      <td>9</td>\n",
       "      <td>27</td>\n",
       "      <td>3</td>\n",
       "      <td>15.6</td>\n",
       "    </tr>\n",
       "    <tr>\n",
       "      <td>6426</td>\n",
       "      <td>SPO</td>\n",
       "      <td>2017</td>\n",
       "      <td>9</td>\n",
       "      <td>28</td>\n",
       "      <td>4</td>\n",
       "      <td>15.5</td>\n",
       "    </tr>\n",
       "    <tr>\n",
       "      <td>...</td>\n",
       "      <td>...</td>\n",
       "      <td>...</td>\n",
       "      <td>...</td>\n",
       "      <td>...</td>\n",
       "      <td>...</td>\n",
       "      <td>...</td>\n",
       "    </tr>\n",
       "    <tr>\n",
       "      <td>14231</td>\n",
       "      <td>SPO</td>\n",
       "      <td>2016</td>\n",
       "      <td>8</td>\n",
       "      <td>20</td>\n",
       "      <td>1</td>\n",
       "      <td>-999.9</td>\n",
       "    </tr>\n",
       "    <tr>\n",
       "      <td>14230</td>\n",
       "      <td>SPO</td>\n",
       "      <td>2016</td>\n",
       "      <td>8</td>\n",
       "      <td>20</td>\n",
       "      <td>0</td>\n",
       "      <td>-999.9</td>\n",
       "    </tr>\n",
       "    <tr>\n",
       "      <td>14228</td>\n",
       "      <td>SPO</td>\n",
       "      <td>2016</td>\n",
       "      <td>8</td>\n",
       "      <td>19</td>\n",
       "      <td>22</td>\n",
       "      <td>-999.9</td>\n",
       "    </tr>\n",
       "    <tr>\n",
       "      <td>14227</td>\n",
       "      <td>SPO</td>\n",
       "      <td>2016</td>\n",
       "      <td>8</td>\n",
       "      <td>19</td>\n",
       "      <td>21</td>\n",
       "      <td>-999.9</td>\n",
       "    </tr>\n",
       "    <tr>\n",
       "      <td>14229</td>\n",
       "      <td>SPO</td>\n",
       "      <td>2016</td>\n",
       "      <td>8</td>\n",
       "      <td>19</td>\n",
       "      <td>23</td>\n",
       "      <td>-999.9</td>\n",
       "    </tr>\n",
       "  </tbody>\n",
       "</table>\n",
       "<p>26182 rows × 6 columns</p>\n",
       "</div>"
      ],
      "text/plain": [
       "      station  year  month  day  hour   wind\n",
       "6412      SPO  2017      9   27    14   15.7\n",
       "6427      SPO  2017      9   28     5   15.7\n",
       "6419      SPO  2017      9   27    21   15.6\n",
       "6401      SPO  2017      9   27     3   15.6\n",
       "6426      SPO  2017      9   28     4   15.5\n",
       "...       ...   ...    ...  ...   ...    ...\n",
       "14231     SPO  2016      8   20     1 -999.9\n",
       "14230     SPO  2016      8   20     0 -999.9\n",
       "14228     SPO  2016      8   19    22 -999.9\n",
       "14227     SPO  2016      8   19    21 -999.9\n",
       "14229     SPO  2016      8   19    23 -999.9\n",
       "\n",
       "[26182 rows x 6 columns]"
      ]
     },
     "execution_count": 4,
     "metadata": {},
     "output_type": "execute_result"
    }
   ],
   "source": [
    "df.sort_values('wind',ascending=False)"
   ]
  },
  {
   "cell_type": "code",
   "execution_count": 5,
   "metadata": {},
   "outputs": [
    {
     "data": {
      "text/plain": [
       "array([[<matplotlib.axes._subplots.AxesSubplot object at 0x10de0e6a0>]],\n",
       "      dtype=object)"
      ]
     },
     "execution_count": 5,
     "metadata": {},
     "output_type": "execute_result"
    }
   ],
   "source": [
    "df.drop(df.loc[df['wind']==-999.9].index, inplace=True)\n",
    "df.hist(column='wind', bins=50)"
   ]
  },
  {
   "cell_type": "code",
   "execution_count": 23,
   "metadata": {},
   "outputs": [],
   "source": [
    "df.drop(df.loc[df['wind']==-99.9].index, inplace=True)"
   ]
  },
  {
   "cell_type": "code",
   "execution_count": 7,
   "metadata": {},
   "outputs": [
    {
     "data": {
      "text/html": [
       "<div>\n",
       "<style scoped>\n",
       "    .dataframe tbody tr th:only-of-type {\n",
       "        vertical-align: middle;\n",
       "    }\n",
       "\n",
       "    .dataframe tbody tr th {\n",
       "        vertical-align: top;\n",
       "    }\n",
       "\n",
       "    .dataframe thead th {\n",
       "        text-align: right;\n",
       "    }\n",
       "</style>\n",
       "<table border=\"1\" class=\"dataframe\">\n",
       "  <thead>\n",
       "    <tr style=\"text-align: right;\">\n",
       "      <th></th>\n",
       "      <th>Date</th>\n",
       "      <th>station</th>\n",
       "      <th>wind</th>\n",
       "    </tr>\n",
       "  </thead>\n",
       "  <tbody>\n",
       "    <tr>\n",
       "      <td>0</td>\n",
       "      <td>2017-01-01 00:00:00</td>\n",
       "      <td>SPO</td>\n",
       "      <td>4.9</td>\n",
       "    </tr>\n",
       "    <tr>\n",
       "      <td>1</td>\n",
       "      <td>2017-01-01 01:00:00</td>\n",
       "      <td>SPO</td>\n",
       "      <td>4.8</td>\n",
       "    </tr>\n",
       "    <tr>\n",
       "      <td>2</td>\n",
       "      <td>2017-01-01 02:00:00</td>\n",
       "      <td>SPO</td>\n",
       "      <td>4.7</td>\n",
       "    </tr>\n",
       "    <tr>\n",
       "      <td>3</td>\n",
       "      <td>2017-01-01 03:00:00</td>\n",
       "      <td>SPO</td>\n",
       "      <td>4.8</td>\n",
       "    </tr>\n",
       "    <tr>\n",
       "      <td>4</td>\n",
       "      <td>2017-01-01 04:00:00</td>\n",
       "      <td>SPO</td>\n",
       "      <td>5.0</td>\n",
       "    </tr>\n",
       "    <tr>\n",
       "      <td>...</td>\n",
       "      <td>...</td>\n",
       "      <td>...</td>\n",
       "      <td>...</td>\n",
       "    </tr>\n",
       "    <tr>\n",
       "      <td>26177</td>\n",
       "      <td>2015-12-31 19:00:00</td>\n",
       "      <td>SPO</td>\n",
       "      <td>2.5</td>\n",
       "    </tr>\n",
       "    <tr>\n",
       "      <td>26178</td>\n",
       "      <td>2015-12-31 20:00:00</td>\n",
       "      <td>SPO</td>\n",
       "      <td>2.6</td>\n",
       "    </tr>\n",
       "    <tr>\n",
       "      <td>26179</td>\n",
       "      <td>2015-12-31 21:00:00</td>\n",
       "      <td>SPO</td>\n",
       "      <td>2.8</td>\n",
       "    </tr>\n",
       "    <tr>\n",
       "      <td>26180</td>\n",
       "      <td>2015-12-31 22:00:00</td>\n",
       "      <td>SPO</td>\n",
       "      <td>3.0</td>\n",
       "    </tr>\n",
       "    <tr>\n",
       "      <td>26181</td>\n",
       "      <td>2015-12-31 23:00:00</td>\n",
       "      <td>SPO</td>\n",
       "      <td>3.1</td>\n",
       "    </tr>\n",
       "  </tbody>\n",
       "</table>\n",
       "<p>26136 rows × 3 columns</p>\n",
       "</div>"
      ],
      "text/plain": [
       "                     Date station  wind\n",
       "0     2017-01-01 00:00:00     SPO   4.9\n",
       "1     2017-01-01 01:00:00     SPO   4.8\n",
       "2     2017-01-01 02:00:00     SPO   4.7\n",
       "3     2017-01-01 03:00:00     SPO   4.8\n",
       "4     2017-01-01 04:00:00     SPO   5.0\n",
       "...                   ...     ...   ...\n",
       "26177 2015-12-31 19:00:00     SPO   2.5\n",
       "26178 2015-12-31 20:00:00     SPO   2.6\n",
       "26179 2015-12-31 21:00:00     SPO   2.8\n",
       "26180 2015-12-31 22:00:00     SPO   3.0\n",
       "26181 2015-12-31 23:00:00     SPO   3.1\n",
       "\n",
       "[26136 rows x 3 columns]"
      ]
     },
     "execution_count": 7,
     "metadata": {},
     "output_type": "execute_result"
    }
   ],
   "source": [
    "#pd.to_datetime(df[['year', 'month', 'day', 'hour']])\n",
    "df.insert(0, 'Date', pd.to_datetime(df[['year', 'month', 'day', 'hour']]))\n",
    "df = df.drop(columns=['year', 'month', 'day','hour'])\n",
    "df"
   ]
  },
  {
   "cell_type": "code",
   "execution_count": 8,
   "metadata": {},
   "outputs": [
    {
     "data": {
      "text/plain": [
       "array([[<matplotlib.axes._subplots.AxesSubplot object at 0x10e147320>]],\n",
       "      dtype=object)"
      ]
     },
     "execution_count": 8,
     "metadata": {},
     "output_type": "execute_result"
    },
    {
     "data": {
      "image/png": "[encoded data removed]",
      "text/plain": [
       "<Figure size 432x288 with 1 Axes>"
      ]
     },
     "metadata": {
      "needs_background": "light"
     },
     "output_type": "display_data"
    }
   ],
   "source": [
    "df.hist(column='wind', bins=50)"
   ]
  },
  {
   "cell_type": "code",
   "execution_count": 9,
   "metadata": {},
   "outputs": [],
   "source": [
    "df.drop(df.loc[df['wind']<10].index, inplace=True)"
   ]
  },
  {
   "cell_type": "code",
   "execution_count": 10,
   "metadata": {},
   "outputs": [
    {
     "data": {
      "text/html": [
       "<div>\n",
       "<style scoped>\n",
       "    .dataframe tbody tr th:only-of-type {\n",
       "        vertical-align: middle;\n",
       "    }\n",
       "\n",
       "    .dataframe tbody tr th {\n",
       "        vertical-align: top;\n",
       "    }\n",
       "\n",
       "    .dataframe thead th {\n",
       "        text-align: right;\n",
       "    }\n",
       "</style>\n",
       "<table border=\"1\" class=\"dataframe\">\n",
       "  <thead>\n",
       "    <tr style=\"text-align: right;\">\n",
       "      <th></th>\n",
       "      <th>Date</th>\n",
       "      <th>station</th>\n",
       "      <th>wind</th>\n",
       "    </tr>\n",
       "  </thead>\n",
       "  <tbody>\n",
       "    <tr>\n",
       "      <td>339</td>\n",
       "      <td>2017-01-15 03:00:00</td>\n",
       "      <td>SPO</td>\n",
       "      <td>10.0</td>\n",
       "    </tr>\n",
       "    <tr>\n",
       "      <td>912</td>\n",
       "      <td>2017-02-08 00:00:00</td>\n",
       "      <td>SPO</td>\n",
       "      <td>10.3</td>\n",
       "    </tr>\n",
       "    <tr>\n",
       "      <td>914</td>\n",
       "      <td>2017-02-08 02:00:00</td>\n",
       "      <td>SPO</td>\n",
       "      <td>10.2</td>\n",
       "    </tr>\n",
       "    <tr>\n",
       "      <td>915</td>\n",
       "      <td>2017-02-08 03:00:00</td>\n",
       "      <td>SPO</td>\n",
       "      <td>10.1</td>\n",
       "    </tr>\n",
       "    <tr>\n",
       "      <td>949</td>\n",
       "      <td>2017-02-09 13:00:00</td>\n",
       "      <td>SPO</td>\n",
       "      <td>10.8</td>\n",
       "    </tr>\n",
       "    <tr>\n",
       "      <td>...</td>\n",
       "      <td>...</td>\n",
       "      <td>...</td>\n",
       "      <td>...</td>\n",
       "    </tr>\n",
       "    <tr>\n",
       "      <td>25697</td>\n",
       "      <td>2015-12-11 19:00:00</td>\n",
       "      <td>SPO</td>\n",
       "      <td>10.1</td>\n",
       "    </tr>\n",
       "    <tr>\n",
       "      <td>25698</td>\n",
       "      <td>2015-12-11 20:00:00</td>\n",
       "      <td>SPO</td>\n",
       "      <td>10.2</td>\n",
       "    </tr>\n",
       "    <tr>\n",
       "      <td>25701</td>\n",
       "      <td>2015-12-11 23:00:00</td>\n",
       "      <td>SPO</td>\n",
       "      <td>10.0</td>\n",
       "    </tr>\n",
       "    <tr>\n",
       "      <td>25702</td>\n",
       "      <td>2015-12-12 00:00:00</td>\n",
       "      <td>SPO</td>\n",
       "      <td>10.2</td>\n",
       "    </tr>\n",
       "    <tr>\n",
       "      <td>25703</td>\n",
       "      <td>2015-12-12 01:00:00</td>\n",
       "      <td>SPO</td>\n",
       "      <td>10.1</td>\n",
       "    </tr>\n",
       "  </tbody>\n",
       "</table>\n",
       "<p>1358 rows × 3 columns</p>\n",
       "</div>"
      ],
      "text/plain": [
       "                     Date station  wind\n",
       "339   2017-01-15 03:00:00     SPO  10.0\n",
       "912   2017-02-08 00:00:00     SPO  10.3\n",
       "914   2017-02-08 02:00:00     SPO  10.2\n",
       "915   2017-02-08 03:00:00     SPO  10.1\n",
       "949   2017-02-09 13:00:00     SPO  10.8\n",
       "...                   ...     ...   ...\n",
       "25697 2015-12-11 19:00:00     SPO  10.1\n",
       "25698 2015-12-11 20:00:00     SPO  10.2\n",
       "25701 2015-12-11 23:00:00     SPO  10.0\n",
       "25702 2015-12-12 00:00:00     SPO  10.2\n",
       "25703 2015-12-12 01:00:00     SPO  10.1\n",
       "\n",
       "[1358 rows x 3 columns]"
      ]
     },
     "execution_count": 10,
     "metadata": {},
     "output_type": "execute_result"
    },
    {
     "data": {
      "image/png": "[encoded data removed]",
      "text/plain": [
       "<Figure size 432x288 with 1 Axes>"
      ]
     },
     "metadata": {
      "needs_background": "light"
     },
     "output_type": "display_data"
    }
   ],
   "source": [
    "df.hist(column='wind', bins=50)\n",
    "df"
   ]
  },
  {
   "cell_type": "code",
   "execution_count": 11,
   "metadata": {},
   "outputs": [
    {
     "name": "stdout",
     "output_type": "stream",
     "text": [
      "            0       1         2           3\n",
      "0        4838       0  0.000000  1421196200\n",
      "1        4838       1  0.000000  1421196200\n",
      "2        4838       2  0.000000  1421196200\n",
      "3        4838       3  0.000000  1421196200\n",
      "4        4838       4  0.000000  1421196201\n",
      "...       ...     ...       ...         ...\n",
      "9400646  9401  137120  6.328333  1495835281\n",
      "9400647  9401  137121  6.328333  1495835281\n",
      "9400648  9401  137122  6.328333  1495835281\n",
      "9400649  9401  137123  6.328333  1495835281\n",
      "9400650  9401  137124  6.328333  1495835282\n",
      "\n",
      "[9400651 rows x 4 columns]\n"
     ]
    }
   ],
   "source": [
    "rate = pd.read_csv('rate_ara2_2017.txt', sep = \"\\s+\", header = None)\n",
    "print(rate)"
   ]
  },
  {
   "cell_type": "code",
   "execution_count": 12,
   "metadata": {},
   "outputs": [
    {
     "name": "stdout",
     "output_type": "stream",
     "text": [
      "         run_num  event_num      rate       utime\n",
      "5737        4838       5737  1.593056  1421197200\n",
      "5738        4838       5738  1.593056  1421197200\n",
      "5739        4838       5739  1.593056  1421197200\n",
      "5740        4838       5740  1.593056  1421197200\n",
      "5741        4838       5741  1.593056  1421197200\n",
      "...          ...        ...       ...         ...\n",
      "9400646     9401     137120  6.328333  1495835281\n",
      "9400647     9401     137121  6.328333  1495835281\n",
      "9400648     9401     137122  6.328333  1495835281\n",
      "9400649     9401     137123  6.328333  1495835281\n",
      "9400650     9401     137124  6.328333  1495835282\n",
      "\n",
      "[9394914 rows x 4 columns]\n"
     ]
    }
   ],
   "source": [
    "rate.columns=['run_num','event_num','rate','utime']\n",
    "rate.drop(rate.loc[rate['rate']==0].index, inplace=True)\n",
    "print(rate)"
   ]
  },
  {
   "cell_type": "code",
   "execution_count": 13,
   "metadata": {},
   "outputs": [
    {
     "data": {
      "text/html": [
       "<div>\n",
       "<style scoped>\n",
       "    .dataframe tbody tr th:only-of-type {\n",
       "        vertical-align: middle;\n",
       "    }\n",
       "\n",
       "    .dataframe tbody tr th {\n",
       "        vertical-align: top;\n",
       "    }\n",
       "\n",
       "    .dataframe thead th {\n",
       "        text-align: right;\n",
       "    }\n",
       "</style>\n",
       "<table border=\"1\" class=\"dataframe\">\n",
       "  <thead>\n",
       "    <tr style=\"text-align: right;\">\n",
       "      <th></th>\n",
       "      <th>run_num</th>\n",
       "      <th>event_num</th>\n",
       "      <th>rate</th>\n",
       "      <th>utime</th>\n",
       "    </tr>\n",
       "  </thead>\n",
       "  <tbody>\n",
       "    <tr>\n",
       "      <td>5737</td>\n",
       "      <td>4838</td>\n",
       "      <td>5737</td>\n",
       "      <td>1.593056</td>\n",
       "      <td>2015-01-14 01:00:00</td>\n",
       "    </tr>\n",
       "    <tr>\n",
       "      <td>5738</td>\n",
       "      <td>4838</td>\n",
       "      <td>5738</td>\n",
       "      <td>1.593056</td>\n",
       "      <td>2015-01-14 01:00:00</td>\n",
       "    </tr>\n",
       "    <tr>\n",
       "      <td>5739</td>\n",
       "      <td>4838</td>\n",
       "      <td>5739</td>\n",
       "      <td>1.593056</td>\n",
       "      <td>2015-01-14 01:00:00</td>\n",
       "    </tr>\n",
       "    <tr>\n",
       "      <td>5740</td>\n",
       "      <td>4838</td>\n",
       "      <td>5740</td>\n",
       "      <td>1.593056</td>\n",
       "      <td>2015-01-14 01:00:00</td>\n",
       "    </tr>\n",
       "    <tr>\n",
       "      <td>5741</td>\n",
       "      <td>4838</td>\n",
       "      <td>5741</td>\n",
       "      <td>1.593056</td>\n",
       "      <td>2015-01-14 01:00:00</td>\n",
       "    </tr>\n",
       "    <tr>\n",
       "      <td>...</td>\n",
       "      <td>...</td>\n",
       "      <td>...</td>\n",
       "      <td>...</td>\n",
       "      <td>...</td>\n",
       "    </tr>\n",
       "    <tr>\n",
       "      <td>9400646</td>\n",
       "      <td>9401</td>\n",
       "      <td>137120</td>\n",
       "      <td>6.328333</td>\n",
       "      <td>2017-05-26 21:00:00</td>\n",
       "    </tr>\n",
       "    <tr>\n",
       "      <td>9400647</td>\n",
       "      <td>9401</td>\n",
       "      <td>137121</td>\n",
       "      <td>6.328333</td>\n",
       "      <td>2017-05-26 21:00:00</td>\n",
       "    </tr>\n",
       "    <tr>\n",
       "      <td>9400648</td>\n",
       "      <td>9401</td>\n",
       "      <td>137122</td>\n",
       "      <td>6.328333</td>\n",
       "      <td>2017-05-26 21:00:00</td>\n",
       "    </tr>\n",
       "    <tr>\n",
       "      <td>9400649</td>\n",
       "      <td>9401</td>\n",
       "      <td>137123</td>\n",
       "      <td>6.328333</td>\n",
       "      <td>2017-05-26 21:00:00</td>\n",
       "    </tr>\n",
       "    <tr>\n",
       "      <td>9400650</td>\n",
       "      <td>9401</td>\n",
       "      <td>137124</td>\n",
       "      <td>6.328333</td>\n",
       "      <td>2017-05-26 21:00:00</td>\n",
       "    </tr>\n",
       "  </tbody>\n",
       "</table>\n",
       "<p>9394914 rows × 4 columns</p>\n",
       "</div>"
      ],
      "text/plain": [
       "         run_num  event_num      rate               utime\n",
       "5737        4838       5737  1.593056 2015-01-14 01:00:00\n",
       "5738        4838       5738  1.593056 2015-01-14 01:00:00\n",
       "5739        4838       5739  1.593056 2015-01-14 01:00:00\n",
       "5740        4838       5740  1.593056 2015-01-14 01:00:00\n",
       "5741        4838       5741  1.593056 2015-01-14 01:00:00\n",
       "...          ...        ...       ...                 ...\n",
       "9400646     9401     137120  6.328333 2017-05-26 21:00:00\n",
       "9400647     9401     137121  6.328333 2017-05-26 21:00:00\n",
       "9400648     9401     137122  6.328333 2017-05-26 21:00:00\n",
       "9400649     9401     137123  6.328333 2017-05-26 21:00:00\n",
       "9400650     9401     137124  6.328333 2017-05-26 21:00:00\n",
       "\n",
       "[9394914 rows x 4 columns]"
      ]
     },
     "execution_count": 13,
     "metadata": {},
     "output_type": "execute_result"
    }
   ],
   "source": [
    "rate['utime']  = pd.to_datetime(rate['utime'],unit='s')\n",
    "rate['utime'] = rate['utime'].dt.floor('h')\n",
    "rate"
   ]
  },
  {
   "cell_type": "code",
   "execution_count": 14,
   "metadata": {},
   "outputs": [
    {
     "data": {
      "text/plain": [
       "array([[<matplotlib.axes._subplots.AxesSubplot object at 0x1041208d0>]],\n",
       "      dtype=object)"
      ]
     },
     "execution_count": 14,
     "metadata": {},
     "output_type": "execute_result"
    },
    {
     "data": {
      "image/png": "[encoded data removed]",
      "text/plain": [
       "<Figure size 432x288 with 1 Axes>"
      ]
     },
     "metadata": {
      "needs_background": "light"
     },
     "output_type": "display_data"
    }
   ],
   "source": [
    "rate.hist(column='rate', bins=50)"
   ]
  },
  {
   "cell_type": "code",
   "execution_count": 15,
   "metadata": {},
   "outputs": [
    {
     "name": "stdout",
     "output_type": "stream",
     "text": [
      "rate    5.442246\n",
      "dtype: float64\n",
      "rate    1.449028\n",
      "dtype: float64\n",
      "rate    6.891274\n",
      "dtype: float64\n"
     ]
    }
   ],
   "source": [
    "print(rate[['rate']].mean())\n",
    "print(rate[['rate']].std())\n",
    "print(rate[['rate']].mean()+rate[['rate']].std())"
   ]
  },
  {
   "cell_type": "code",
   "execution_count": 16,
   "metadata": {},
   "outputs": [
    {
     "data": {
      "text/html": [
       "<div>\n",
       "<style scoped>\n",
       "    .dataframe tbody tr th:only-of-type {\n",
       "        vertical-align: middle;\n",
       "    }\n",
       "\n",
       "    .dataframe tbody tr th {\n",
       "        vertical-align: top;\n",
       "    }\n",
       "\n",
       "    .dataframe thead th {\n",
       "        text-align: right;\n",
       "    }\n",
       "</style>\n",
       "<table border=\"1\" class=\"dataframe\">\n",
       "  <thead>\n",
       "    <tr style=\"text-align: right;\">\n",
       "      <th></th>\n",
       "      <th>run_num</th>\n",
       "      <th>event_num</th>\n",
       "      <th>rate</th>\n",
       "      <th>utime</th>\n",
       "    </tr>\n",
       "  </thead>\n",
       "  <tbody>\n",
       "    <tr>\n",
       "      <td>26505</td>\n",
       "      <td>4838</td>\n",
       "      <td>26505</td>\n",
       "      <td>5.768611</td>\n",
       "      <td>2015-01-14 02:00:00</td>\n",
       "    </tr>\n",
       "    <tr>\n",
       "      <td>26506</td>\n",
       "      <td>4838</td>\n",
       "      <td>26506</td>\n",
       "      <td>5.768611</td>\n",
       "      <td>2015-01-14 02:00:00</td>\n",
       "    </tr>\n",
       "    <tr>\n",
       "      <td>26507</td>\n",
       "      <td>4838</td>\n",
       "      <td>26507</td>\n",
       "      <td>5.768611</td>\n",
       "      <td>2015-01-14 02:00:00</td>\n",
       "    </tr>\n",
       "    <tr>\n",
       "      <td>26508</td>\n",
       "      <td>4838</td>\n",
       "      <td>26508</td>\n",
       "      <td>5.768611</td>\n",
       "      <td>2015-01-14 02:00:00</td>\n",
       "    </tr>\n",
       "    <tr>\n",
       "      <td>26509</td>\n",
       "      <td>4838</td>\n",
       "      <td>26509</td>\n",
       "      <td>5.768611</td>\n",
       "      <td>2015-01-14 02:00:00</td>\n",
       "    </tr>\n",
       "    <tr>\n",
       "      <td>...</td>\n",
       "      <td>...</td>\n",
       "      <td>...</td>\n",
       "      <td>...</td>\n",
       "      <td>...</td>\n",
       "    </tr>\n",
       "    <tr>\n",
       "      <td>9400646</td>\n",
       "      <td>9401</td>\n",
       "      <td>137120</td>\n",
       "      <td>6.328333</td>\n",
       "      <td>2017-05-26 21:00:00</td>\n",
       "    </tr>\n",
       "    <tr>\n",
       "      <td>9400647</td>\n",
       "      <td>9401</td>\n",
       "      <td>137121</td>\n",
       "      <td>6.328333</td>\n",
       "      <td>2017-05-26 21:00:00</td>\n",
       "    </tr>\n",
       "    <tr>\n",
       "      <td>9400648</td>\n",
       "      <td>9401</td>\n",
       "      <td>137122</td>\n",
       "      <td>6.328333</td>\n",
       "      <td>2017-05-26 21:00:00</td>\n",
       "    </tr>\n",
       "    <tr>\n",
       "      <td>9400649</td>\n",
       "      <td>9401</td>\n",
       "      <td>137123</td>\n",
       "      <td>6.328333</td>\n",
       "      <td>2017-05-26 21:00:00</td>\n",
       "    </tr>\n",
       "    <tr>\n",
       "      <td>9400650</td>\n",
       "      <td>9401</td>\n",
       "      <td>137124</td>\n",
       "      <td>6.328333</td>\n",
       "      <td>2017-05-26 21:00:00</td>\n",
       "    </tr>\n",
       "  </tbody>\n",
       "</table>\n",
       "<p>7153974 rows × 4 columns</p>\n",
       "</div>"
      ],
      "text/plain": [
       "         run_num  event_num      rate               utime\n",
       "26505       4838      26505  5.768611 2015-01-14 02:00:00\n",
       "26506       4838      26506  5.768611 2015-01-14 02:00:00\n",
       "26507       4838      26507  5.768611 2015-01-14 02:00:00\n",
       "26508       4838      26508  5.768611 2015-01-14 02:00:00\n",
       "26509       4838      26509  5.768611 2015-01-14 02:00:00\n",
       "...          ...        ...       ...                 ...\n",
       "9400646     9401     137120  6.328333 2017-05-26 21:00:00\n",
       "9400647     9401     137121  6.328333 2017-05-26 21:00:00\n",
       "9400648     9401     137122  6.328333 2017-05-26 21:00:00\n",
       "9400649     9401     137123  6.328333 2017-05-26 21:00:00\n",
       "9400650     9401     137124  6.328333 2017-05-26 21:00:00\n",
       "\n",
       "[7153974 rows x 4 columns]"
      ]
     },
     "execution_count": 16,
     "metadata": {},
     "output_type": "execute_result"
    }
   ],
   "source": [
    "rate.drop(rate.loc[rate['rate']<5.4].index, inplace=True)\n",
    "rate"
   ]
  },
  {
   "cell_type": "code",
   "execution_count": 17,
   "metadata": {},
   "outputs": [
    {
     "data": {
      "text/plain": [
       "False    1329\n",
       "True       29\n",
       "Name: Date, dtype: int64"
      ]
     },
     "execution_count": 17,
     "metadata": {},
     "output_type": "execute_result"
    }
   ],
   "source": [
    "df['Date'].isin(rate['utime']).value_counts()"
   ]
  },
  {
   "cell_type": "code",
   "execution_count": 18,
   "metadata": {},
   "outputs": [
    {
     "data": {
      "text/plain": [
       "{Timestamp('2015-06-09 22:00:00'),\n",
       " Timestamp('2015-06-09 23:00:00'),\n",
       " Timestamp('2015-06-10 18:00:00'),\n",
       " Timestamp('2015-06-10 20:00:00'),\n",
       " Timestamp('2015-06-10 21:00:00'),\n",
       " Timestamp('2016-05-06 11:00:00'),\n",
       " Timestamp('2016-05-06 12:00:00'),\n",
       " Timestamp('2016-05-06 13:00:00'),\n",
       " Timestamp('2016-05-06 14:00:00'),\n",
       " Timestamp('2016-05-06 15:00:00'),\n",
       " Timestamp('2016-06-26 23:00:00'),\n",
       " Timestamp('2016-06-27 00:00:00'),\n",
       " Timestamp('2016-06-27 03:00:00'),\n",
       " Timestamp('2016-06-27 04:00:00'),\n",
       " Timestamp('2016-06-27 05:00:00'),\n",
       " Timestamp('2016-06-27 06:00:00'),\n",
       " Timestamp('2016-06-27 08:00:00'),\n",
       " Timestamp('2016-08-01 21:00:00'),\n",
       " Timestamp('2016-08-01 23:00:00'),\n",
       " Timestamp('2016-08-02 00:00:00'),\n",
       " Timestamp('2016-08-02 01:00:00'),\n",
       " Timestamp('2016-08-02 02:00:00'),\n",
       " Timestamp('2016-08-02 03:00:00'),\n",
       " Timestamp('2016-10-22 07:00:00'),\n",
       " Timestamp('2016-10-22 09:00:00'),\n",
       " Timestamp('2016-11-12 04:00:00'),\n",
       " Timestamp('2016-11-12 05:00:00'),\n",
       " Timestamp('2017-01-15 03:00:00'),\n",
       " Timestamp('2017-05-26 17:00:00')}"
      ]
     },
     "execution_count": 18,
     "metadata": {},
     "output_type": "execute_result"
    }
   ],
   "source": [
    "set(df.Date).intersection(set(rate.utime))"
   ]
  },
  {
   "cell_type": "code",
   "execution_count": 21,
   "metadata": {},
   "outputs": [
    {
     "data": {
      "text/plain": [
       "(736361.0, 736380.0)"
      ]
     },
     "execution_count": 21,
     "metadata": {},
     "output_type": "execute_result"
    },
    {
     "data": {
      "image/png": "[encoded data removed]",
      "text/plain": [
       "<Figure size 432x288 with 1 Axes>"
      ]
     },
     "metadata": {
      "needs_background": "light"
     },
     "output_type": "display_data"
    }
   ],
   "source": [
    "import matplotlib.pyplot as plt\n",
    "import datetime\n",
    "#plt.plot(rate.utime,rate.rate)\n",
    "fig, ax = plt.subplots()\n",
    "ax.plot_date(rate.utime,rate.rate)\n",
    "fig.autofmt_xdate()\n",
    "ax.set_xlim([datetime.date(2017, 2, 1), datetime.date(2017, 2, 20)])"
   ]
  },
  {
   "cell_type": "code",
   "execution_count": 22,
   "metadata": {},
   "outputs": [
    {
     "data": {
      "image/png": "[encoded data removed]",
      "text/plain": [
       "<Figure size 432x288 with 1 Axes>"
      ]
     },
     "metadata": {
      "needs_background": "light"
     },
     "output_type": "display_data"
    }
   ],
   "source": [
    "fig, ax = plt.subplots()\n",
    "ax.plot_date(df.Date,df.wind)\n",
    "fig.autofmt_xdate()\n",
    "#ax.set_xlim([datetime.date(2016, 12, 26), datetime.date(2017, 3, 1)])"
   ]
  },
  {
   "cell_type": "code",
   "execution_count": null,
   "metadata": {},
   "outputs": [],
   "source": []
  }
 ],
 "metadata": {
  "kernelspec": {
   "display_name": "Python 3",
   "language": "python",
   "name": "python3"
  },
  "language_info": {
   "codemirror_mode": {
    "name": "ipython",
    "version": 3
   },
   "file_extension": ".py",
   "mimetype": "text/x-python",
   "name": "python",
   "nbconvert_exporter": "python",
   "pygments_lexer": "ipython3",
   "version": "3.7.1"
  }
 },
 "nbformat": 4,
 "nbformat_minor": 2
}
